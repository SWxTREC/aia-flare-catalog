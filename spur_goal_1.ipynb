{
 "cells": [
  {
   "cell_type": "markdown",
   "metadata": {},
   "source": [
    "### GOES and AIA flare catalog production - Goal 1\n",
    "This notebook contains some sample code to load up the AIA flare catalog, extract the entries which have an associate M/X GOES flare, and then plots the corresponding peak in each AIA channel along with markers for the start, peak and end times. You'll want to also have a copy of the catalog open so that you can make edits to it as needed. As you get accustomed to the data, it may be easier to transfer this code to a script, plot all of the peaks and then go through the generated plots one by one. "
   ]
  },
  {
   "cell_type": "code",
   "execution_count": 1,
   "metadata": {},
   "outputs": [],
   "source": [
    "## import packages\n",
    "import matplotlib.pyplot as plt \n",
    "%matplotlib inline\n",
    "import numpy as np\n",
    "import pandas as pd\n",
    "import pickle\n",
    "from datetime import datetime,timedelta\n",
    "from helper import *"
   ]
  },
  {
   "cell_type": "code",
   "execution_count": 2,
   "metadata": {},
   "outputs": [
    {
     "name": "stdout",
     "output_type": "stream",
     "text": [
      "330 flares in the AIA catalog with GOES M/X labels\n"
     ]
    }
   ],
   "source": [
    "## load the AIA flare catalog \n",
    "flares = pd.read_csv('aia_flares_catalog_7_pred.csv')\n",
    "lams = ['193','171','304','1600','131','94']\n",
    "\n",
    "# convert all time columns to datetime objects\n",
    "flares['aia_max_start_time'] = pd.to_datetime(flares['aia_max_start_time'])\n",
    "flares['aia_min_end_time'] = pd.to_datetime(flares['aia_min_end_time'])\n",
    "flares['goes_start_time'] = pd.to_datetime(flares['goes_start_time'])\n",
    "flares['goes_end_time'] = pd.to_datetime(flares['goes_end_time'])\n",
    "for lam in lams:\n",
    "    flares[lam+'_start_time'] = pd.to_datetime(flares[lam+'_start_time'])\n",
    "    flares[lam+'_peak_time'] = pd.to_datetime(flares[lam+'_peak_time'])\n",
    "    flares[lam+'_end_time'] = pd.to_datetime(flares[lam+'_end_time'])\n",
    "\n",
    "flares['mean_start_time']  = flares['aia_max_start_time']+flares[[lam+'_start_time'for lam in lams]].subtract(flares['aia_max_start_time'],axis=0).mean(axis=1)\n",
    "flares['mean_peak_time']  = flares['aia_max_start_time']+flares[[lam+'_peak_time'for lam in lams]].subtract(flares['aia_max_start_time'],axis=0).mean(axis=1)\n",
    "flares['mean_end_time']  = flares['aia_max_start_time']+flares[[lam+'_end_time'for lam in lams]].subtract(flares['aia_max_start_time'],axis=0).mean(axis=1)\n",
    "\n",
    "# filter only events with associated GOES flare entry\n",
    "flares_goes = flares[flares['goes_flare_ind'].notnull()]\n",
    "# filter only M/X flares as given by GOES\n",
    "flares_goes = flares_goes[np.logical_or(flares_goes['CMX']=='M',flares_goes['CMX']=='X')]\n",
    "print(len(flares_goes),'flares in the AIA catalog with GOES M/X labels')\n"
   ]
  },
  {
   "cell_type": "code",
   "execution_count": 74,
   "metadata": {},
   "outputs": [
    {
     "name": "stdout",
     "output_type": "stream",
     "text": [
      "320\n"
     ]
    }
   ],
   "source": []
  },
  {
   "cell_type": "code",
   "execution_count": 3,
   "metadata": {},
   "outputs": [],
   "source": [
    "aia_dir = '/srv/data/sdo_sharps/aia_timeseries/' # might need to change this to the path to the aia timeseries data"
   ]
  },
  {
   "cell_type": "code",
   "execution_count": 76,
   "metadata": {},
   "outputs": [],
   "source": [
    "## loop through the catalog and plot event\n",
    "#i=np.arange(0,330) #there are 330 flares in the catalogue (index 0-329)\n",
    "# for i in range(len(flares_goes)):\n",
    "for i in range(len(flares_goes)):\n",
    "    flare = flares_goes.iloc[i]\n",
    "# load AIA timeseries data\n",
    "    with open(aia_dir+'sharp_'+str(flare['SHARP'])+'_aia_sum_intensity', \"rb\") as fp:   #Pickling\n",
    "        aia_data = pickle.load(fp)\n",
    "    with open(aia_dir+'sharp_'+str(flare['SHARP'])+'_aia_times', \"rb\") as fp:   #Pickling\n",
    "        aia_times = pickle.load(fp)\n",
    "\n",
    "    plot_flare(flare,aia_times,aia_data,window=60);\n",
    "    output_filename = f'timeseries_data/plot-{i}.png'\n",
    "    plt.savefig(output_filename) #save figures to directory\n",
    "    plt.close('all')\n",
    "# break\n"
   ]
  },
  {
   "cell_type": "code",
   "execution_count": 13,
   "metadata": {},
   "outputs": [],
   "source": [
    "i = 65\n",
    "flare = flares_goes.iloc[i]\n",
    "# load AIA timeseries data\n",
    "with open(aia_dir+'sharp_'+str(flare['SHARP'])+'_aia_sum_intensity', \"rb\") as fp:   #Pickling\n",
    "    aia_data = pickle.load(fp)\n",
    "with open(aia_dir+'sharp_'+str(flare['SHARP'])+'_aia_times', \"rb\") as fp:   #Pickling\n",
    "    aia_times = pickle.load(fp)\n",
    "\n",
    "plot_flare(flare,aia_times,aia_data,window=5);\n",
    "output_filename = f'timeseries_data/plot-{i}.png'\n",
    "plt.savefig(output_filename, facecolor = 'white') #save figures to directory\n",
    "plt.close('all')"
   ]
  },
  {
   "cell_type": "code",
   "execution_count": null,
   "metadata": {},
   "outputs": [],
   "source": []
  },
  {
   "cell_type": "code",
   "execution_count": null,
   "metadata": {},
   "outputs": [],
   "source": []
  }
 ],
 "metadata": {
  "interpreter": {
   "hash": "be0411850b86f1ba80b45a9787785b8308ba52f2b86a6e79c7bb420b661b1f13"
  },
  "kernelspec": {
   "display_name": "Python 3.8.5 ('solar')",
   "language": "python",
   "name": "python3"
  },
  "language_info": {
   "codemirror_mode": {
    "name": "ipython",
    "version": 3
   },
   "file_extension": ".py",
   "mimetype": "text/x-python",
   "name": "python",
   "nbconvert_exporter": "python",
   "pygments_lexer": "ipython3",
   "version": "3.8.5"
  },
  "orig_nbformat": 4
 },
 "nbformat": 4,
 "nbformat_minor": 2
}

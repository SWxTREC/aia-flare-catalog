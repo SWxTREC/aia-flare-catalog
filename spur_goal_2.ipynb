{
 "cells": [
  {
   "cell_type": "markdown",
   "metadata": {},
   "source": [
    "### GOES and AIA flare catalog production - Goal 2\n",
    "This notebook contains some sample code to load up the AIA flare catalog and the GOES flare catalog and extract the GOES M/X flares which are not captured in the AIA flare catalog. There is an outline of steps you might take to investigate these events."
   ]
  },
  {
   "cell_type": "code",
   "execution_count": 1,
   "metadata": {},
   "outputs": [],
   "source": [
    "## import packages\n",
    "import matplotlib.pyplot as plt \n",
    "%matplotlib inline\n",
    "import numpy as np\n",
    "import pandas as pd\n",
    "import pickle\n",
    "from datetime import datetime,timedelta\n",
    "from helper import *\n",
    "import warnings\n",
    "warnings.filterwarnings(\"ignore\")\n"
   ]
  },
  {
   "cell_type": "code",
   "execution_count": 2,
   "metadata": {},
   "outputs": [
    {
     "name": "stdout",
     "output_type": "stream",
     "text": [
      "32 flares missing in the AIA catalog with GOES M/X labels\n"
     ]
    }
   ],
   "source": [
    "## load the AIA flare catalog \n",
    "flares = pd.read_csv('aia_flares_catalog_7_pred.csv')\n",
    "goes_catalog = pd.read_csv('goes_catalog_with_noaa_ar2.csv',na_values=' ')\n",
    "goes_catalog = goes_catalog.dropna(subset=['SHARP'])\n",
    "goes_catalog = goes_catalog[pd.to_numeric(goes_catalog['SHARP'])>=20]\n",
    "goes_catalog.SHARP = pd.to_numeric(goes_catalog['SHARP']).astype('int64')\n",
    "\n",
    "bhs = pd.read_csv('sharps_badheaders.csv')\n",
    "bhs = [x[0] for x in bhs.values]\n",
    "goes_catalog = goes_catalog[~goes_catalog.SHARP.isin(bhs)]\n",
    "\n",
    "outofrange = pd.read_csv('flares_with_limbs2.csv')\n",
    "outofrange = [x[0] for x in outofrange.values]\n",
    "goes_catalog = goes_catalog.drop(outofrange,errors='ignore')\n",
    "\n",
    "nes_noaa = pd.read_csv('nonempty_sharps_with_noaa_ar.csv')\n",
    "goes_catalog = goes_catalog[goes_catalog.SHARP.isin(nes_noaa.HARPNUM)]\n",
    "goes_catalog = goes_catalog.reset_index().rename(columns={'index':'flare_ind'})\n",
    "\n",
    "goes_MX = goes_catalog[np.logical_or(goes_catalog['CMX']=='X',goes_catalog['CMX']=='M')]\n",
    "lams = ['193','171','304','1600','131','94']\n",
    "\n",
    "\n",
    "# filter only GOES events not found in AIA catalog\n",
    "flares_noaia = goes_MX[~goes_MX['flare_ind'].isin(flares['goes_flare_ind'])]\n",
    "print(len(flares_noaia),'flares missing in the AIA catalog with GOES M/X labels')\n"
   ]
  },
  {
   "cell_type": "code",
   "execution_count": 3,
   "metadata": {},
   "outputs": [],
   "source": [
    "aia_dir = '/srv/data/sdo_sharps/aia_timeseries/' # might need to change this to the path to the aia timeseries data"
   ]
  },
  {
   "cell_type": "code",
   "execution_count": null,
   "metadata": {},
   "outputs": [],
   "source": [
    "## loop through the catalog and plot event\n",
    "i=0\n",
    "# for i in range(len(flares_goes)):\n",
    "flare = flares_noaia.iloc[i]\n",
    "flare['mean_start_time'] = pd.to_datetime('20' + flare['DATE'].astype('str') + '_' + \n",
    "                                flare['START_TIME'].astype('str').zfill(4) + '00', format='%Y%m%d_%H%M%S')\n",
    "flare['mean_end_time'] = pd.to_datetime('20' + flare['DATE'].astype('str') + '_' + \n",
    "                                flare['END_TIME'].astype('str').zfill(4) + '00', format='%Y%m%d_%H%M%S')\n",
    "if flare['mean_end_time']<flare['mean_start_time']:\n",
    "    flare['mean_end_time']=flare['mean_end_time']+timedelta(days=1)\n",
    "    \n",
    "# load AIA timeseries data \n",
    "with open(aia_dir+'sharp_'+str(flare['SHARP'])+'_aia_sum_intensity', \"rb\") as fp:   #Pickling\n",
    "    aia_data = pickle.load(fp)\n",
    "with open(aia_dir+'sharp_'+str(flare['SHARP'])+'_aia_times', \"rb\") as fp:   #Pickling\n",
    "    aia_times = pickle.load(fp)\n",
    "\n",
    "plot_flare_goes(flare,aia_times,aia_data,window=60)\n",
    "# break"
   ]
  },
  {
   "cell_type": "markdown",
   "metadata": {},
   "source": [
    "If the figure contains a distinct peak near the blue window (ie. i=1), it's probably listed in the AIA catalog but with errors so it isn't associated to the GOES peak. You'll have to look through the AIA catalog at entries with the given SHARP number and the given date/times. You can manually correct anything which doesn't look correct and associate it with the GOES peak. \n",
    "\n",
    "If there isn't a distinct peak (ie. i=13), we'll need to do some investigating. You can check solar monitor for this date and the corresponding flare and active region. Check if the flare is in the database and what AR is associated with it, then cross reference with the AR-SHARP list."
   ]
  },
  {
   "cell_type": "code",
   "execution_count": null,
   "metadata": {},
   "outputs": [],
   "source": [
    "print(flare)"
   ]
  },
  {
   "cell_type": "code",
   "execution_count": 4,
   "metadata": {},
   "outputs": [
    {
     "name": "stderr",
     "output_type": "stream",
     "text": [
      "No handles with labels found to put in legend.\n",
      "No handles with labels found to put in legend.\n",
      "No handles with labels found to put in legend.\n",
      "No handles with labels found to put in legend.\n",
      "No handles with labels found to put in legend.\n",
      "No handles with labels found to put in legend.\n"
     ]
    },
    {
     "name": "stdout",
     "output_type": "stream",
     "text": [
      "start: 2011-01-28 00:44:00 , end: 2011-01-28 01:10:00\n",
      "start: 2011-02-18 14:00:00 , end: 2011-02-18 14:15:00\n",
      "start: 2011-04-15 17:02:00 , end: 2011-04-15 17:28:00\n",
      "start: 2011-11-06 06:14:00 , end: 2011-11-06 06:41:00\n",
      "start: 2011-12-31 13:09:00 , end: 2011-12-31 13:19:00\n",
      "start: 2012-03-05 19:27:00 , end: 2012-03-05 19:32:00\n",
      "start: 2012-03-15 07:23:00 , end: 2012-03-15 08:08:00\n",
      "start: 2012-05-09 14:02:00 , end: 2012-05-09 14:14:00\n",
      "start: 2012-07-02 00:26:00 , end: 2012-07-02 00:40:00\n",
      "start: 2012-07-05 20:09:00 , end: 2012-07-05 20:28:00\n",
      "start: 2013-10-28 14:46:00 , end: 2013-10-28 15:04:00\n",
      "start: 2013-11-15 02:20:00 , end: 2013-11-15 02:33:00\n"
     ]
    },
    {
     "name": "stderr",
     "output_type": "stream",
     "text": [
      "No handles with labels found to put in legend.\n",
      "No handles with labels found to put in legend.\n",
      "No handles with labels found to put in legend.\n",
      "No handles with labels found to put in legend.\n",
      "No handles with labels found to put in legend.\n",
      "No handles with labels found to put in legend.\n"
     ]
    },
    {
     "name": "stdout",
     "output_type": "stream",
     "text": [
      "start: 2013-11-19 10:14:00 , end: 2013-11-19 10:34:00\n",
      "start: 2014-01-04 22:12:00 , end: 2014-01-04 23:22:00\n",
      "start: 2014-06-12 19:56:00 , end: 2014-06-12 20:05:00\n",
      "start: 2014-10-09 01:30:00 , end: 2014-10-09 01:47:00\n",
      "start: 2014-10-22 15:51:00 , end: 2014-10-22 16:03:00\n",
      "start: 2014-12-14 19:25:00 , end: 2014-12-14 19:39:00\n",
      "start: 2014-12-17 00:57:00 , end: 2014-12-17 01:20:00\n"
     ]
    },
    {
     "name": "stderr",
     "output_type": "stream",
     "text": [
      "No handles with labels found to put in legend.\n",
      "No handles with labels found to put in legend.\n"
     ]
    },
    {
     "name": "stdout",
     "output_type": "stream",
     "text": [
      "start: 2015-01-28 21:32:00 , end: 2015-01-28 21:40:00\n",
      "start: 2015-02-09 22:19:00 , end: 2015-02-10 00:16:00\n"
     ]
    },
    {
     "name": "stderr",
     "output_type": "stream",
     "text": [
      "No handles with labels found to put in legend.\n",
      "No handles with labels found to put in legend.\n",
      "No handles with labels found to put in legend.\n",
      "No handles with labels found to put in legend.\n",
      "No handles with labels found to put in legend.\n",
      "No handles with labels found to put in legend.\n"
     ]
    },
    {
     "name": "stdout",
     "output_type": "stream",
     "text": [
      "start: 2015-03-03 01:25:00 , end: 2015-03-03 01:42:00\n",
      "start: 2015-03-11 07:10:00 , end: 2015-03-11 07:43:00\n",
      "start: 2015-03-17 22:49:00 , end: 2015-03-17 23:48:00\n"
     ]
    },
    {
     "name": "stderr",
     "output_type": "stream",
     "text": [
      "No handles with labels found to put in legend.\n",
      "No handles with labels found to put in legend.\n",
      "No handles with labels found to put in legend.\n",
      "No handles with labels found to put in legend.\n",
      "No handles with labels found to put in legend.\n",
      "No handles with labels found to put in legend.\n"
     ]
    },
    {
     "name": "stdout",
     "output_type": "stream",
     "text": [
      "start: 2015-04-22 08:30:00 , end: 2015-04-22 08:58:00\n",
      "start: 2015-09-17 09:34:00 , end: 2015-09-17 09:45:00\n",
      "start: 2016-02-15 10:41:00 , end: 2016-02-15 11:06:00\n"
     ]
    },
    {
     "ename": "TypeError",
     "evalue": "invalid type promotion",
     "output_type": "error",
     "traceback": [
      "\u001b[0;31m---------------------------------------------------------------------------\u001b[0m",
      "\u001b[0;31mTypeError\u001b[0m                                 Traceback (most recent call last)",
      "\u001b[0;32m<ipython-input-4-056f01289d1d>\u001b[0m in \u001b[0;36m<module>\u001b[0;34m\u001b[0m\n\u001b[1;32m     15\u001b[0m         \u001b[0maia_times\u001b[0m \u001b[0;34m=\u001b[0m \u001b[0mpickle\u001b[0m\u001b[0;34m.\u001b[0m\u001b[0mload\u001b[0m\u001b[0;34m(\u001b[0m\u001b[0mfp\u001b[0m\u001b[0;34m)\u001b[0m\u001b[0;34m\u001b[0m\u001b[0;34m\u001b[0m\u001b[0m\n\u001b[1;32m     16\u001b[0m \u001b[0;34m\u001b[0m\u001b[0m\n\u001b[0;32m---> 17\u001b[0;31m     \u001b[0mplot_flare_goes\u001b[0m\u001b[0;34m(\u001b[0m\u001b[0mflare\u001b[0m\u001b[0;34m,\u001b[0m\u001b[0maia_times\u001b[0m\u001b[0;34m,\u001b[0m\u001b[0maia_data\u001b[0m\u001b[0;34m,\u001b[0m\u001b[0mwindow\u001b[0m\u001b[0;34m=\u001b[0m\u001b[0;36m60\u001b[0m\u001b[0;34m)\u001b[0m\u001b[0;34m\u001b[0m\u001b[0;34m\u001b[0m\u001b[0m\n\u001b[0m\u001b[1;32m     18\u001b[0m     \u001b[0moutput_filename\u001b[0m \u001b[0;34m=\u001b[0m \u001b[0;34mf'Unlabeled_Plots/plot-{i}.png'\u001b[0m\u001b[0;34m\u001b[0m\u001b[0;34m\u001b[0m\u001b[0m\n\u001b[1;32m     19\u001b[0m     \u001b[0mplt\u001b[0m\u001b[0;34m.\u001b[0m\u001b[0msavefig\u001b[0m\u001b[0;34m(\u001b[0m\u001b[0moutput_filename\u001b[0m\u001b[0;34m,\u001b[0m\u001b[0mfacecolor\u001b[0m\u001b[0;34m=\u001b[0m\u001b[0;34m'white'\u001b[0m\u001b[0;34m)\u001b[0m \u001b[0;31m#save figures to directory\u001b[0m\u001b[0;34m\u001b[0m\u001b[0;34m\u001b[0m\u001b[0m\n",
      "\u001b[0;32m~/Research/aia-flare-catalog/helper.py\u001b[0m in \u001b[0;36mplot_flare_goes\u001b[0;34m(flare, aia_times, aia_data, window)\u001b[0m\n\u001b[1;32m     49\u001b[0m         \u001b[0msum_intensity\u001b[0m \u001b[0;34m=\u001b[0m \u001b[0mnp\u001b[0m\u001b[0;34m.\u001b[0m\u001b[0marray\u001b[0m\u001b[0;34m(\u001b[0m\u001b[0maia_data\u001b[0m\u001b[0;34m[\u001b[0m\u001b[0mj\u001b[0m\u001b[0;34m]\u001b[0m\u001b[0;34m)\u001b[0m\u001b[0;34m\u001b[0m\u001b[0;34m\u001b[0m\u001b[0m\n\u001b[1;32m     50\u001b[0m         \u001b[0mtimes\u001b[0m \u001b[0;34m=\u001b[0m \u001b[0mnp\u001b[0m\u001b[0;34m.\u001b[0m\u001b[0marray\u001b[0m\u001b[0;34m(\u001b[0m\u001b[0maia_times\u001b[0m\u001b[0;34m[\u001b[0m\u001b[0mj\u001b[0m\u001b[0;34m]\u001b[0m\u001b[0;34m)\u001b[0m\u001b[0;34m\u001b[0m\u001b[0;34m\u001b[0m\u001b[0m\n\u001b[0;32m---> 51\u001b[0;31m         \u001b[0msum_intensity\u001b[0m \u001b[0;34m=\u001b[0m \u001b[0msum_intensity\u001b[0m\u001b[0;34m[\u001b[0m\u001b[0mnp\u001b[0m\u001b[0;34m.\u001b[0m\u001b[0mlogical_and\u001b[0m\u001b[0;34m(\u001b[0m\u001b[0mtimes\u001b[0m\u001b[0;34m>\u001b[0m\u001b[0mnp\u001b[0m\u001b[0;34m.\u001b[0m\u001b[0mdatetime64\u001b[0m\u001b[0;34m(\u001b[0m\u001b[0mstart\u001b[0m\u001b[0;34m)\u001b[0m\u001b[0;34m,\u001b[0m\u001b[0mtimes\u001b[0m\u001b[0;34m<\u001b[0m\u001b[0mnp\u001b[0m\u001b[0;34m.\u001b[0m\u001b[0mdatetime64\u001b[0m\u001b[0;34m(\u001b[0m\u001b[0mend\u001b[0m\u001b[0;34m)\u001b[0m\u001b[0;34m)\u001b[0m\u001b[0;34m]\u001b[0m\u001b[0;34m\u001b[0m\u001b[0;34m\u001b[0m\u001b[0m\n\u001b[0m\u001b[1;32m     52\u001b[0m         \u001b[0mtimes\u001b[0m \u001b[0;34m=\u001b[0m \u001b[0mtimes\u001b[0m\u001b[0;34m[\u001b[0m\u001b[0mnp\u001b[0m\u001b[0;34m.\u001b[0m\u001b[0mlogical_and\u001b[0m\u001b[0;34m(\u001b[0m\u001b[0mtimes\u001b[0m\u001b[0;34m>\u001b[0m\u001b[0mnp\u001b[0m\u001b[0;34m.\u001b[0m\u001b[0mdatetime64\u001b[0m\u001b[0;34m(\u001b[0m\u001b[0mstart\u001b[0m\u001b[0;34m)\u001b[0m\u001b[0;34m,\u001b[0m\u001b[0mtimes\u001b[0m\u001b[0;34m<\u001b[0m\u001b[0mnp\u001b[0m\u001b[0;34m.\u001b[0m\u001b[0mdatetime64\u001b[0m\u001b[0;34m(\u001b[0m\u001b[0mend\u001b[0m\u001b[0;34m)\u001b[0m\u001b[0;34m)\u001b[0m\u001b[0;34m]\u001b[0m\u001b[0;34m\u001b[0m\u001b[0;34m\u001b[0m\u001b[0m\n\u001b[1;32m     53\u001b[0m \u001b[0;34m\u001b[0m\u001b[0m\n",
      "\u001b[0;31mTypeError\u001b[0m: invalid type promotion"
     ]
    },
    {
     "data": {
      "image/png": "[encoded data removed]",
      "text/plain": [
       "<Figure size 720x720 with 6 Axes>"
      ]
     },
     "metadata": {
      "needs_background": "light"
     },
     "output_type": "display_data"
    }
   ],
   "source": [
    "## loop through the catalog and plot event\n",
    "for i in range(26):\n",
    "    flare = flares_noaia.iloc[i]\n",
    "    flare['mean_start_time'] = pd.to_datetime('20' + flare['DATE'].astype('str') + '_' + \n",
    "                                flare['START_TIME'].astype('str').zfill(4) + '00', format='%Y%m%d_%H%M%S')\n",
    "    flare['mean_end_time'] = pd.to_datetime('20' + flare['DATE'].astype('str') + '_' + \n",
    "                                flare['END_TIME'].astype('str').zfill(4) + '00', format='%Y%m%d_%H%M%S')\n",
    "    if flare['mean_end_time']<flare['mean_start_time']:\n",
    "        flare['mean_end_time']=flare['mean_end_time']+timedelta(days=1)\n",
    "    \n",
    "# load AIA timeseries data \n",
    "    with open(aia_dir+'sharp_'+str(flare['SHARP'])+'_aia_sum_intensity', \"rb\") as fp:   #Pickling\n",
    "        aia_data = pickle.load(fp)\n",
    "    with open(aia_dir+'sharp_'+str(flare['SHARP'])+'_aia_times', \"rb\") as fp:   #Pickling\n",
    "        aia_times = pickle.load(fp)\n",
    "\n",
    "    plot_flare_goes(flare,aia_times,aia_data,window=60)\n",
    "    output_filename = f'Unlabeled_Plots/plot-{i}.png'\n",
    "    plt.savefig(output_filename,facecolor='white') #save figures to directory\n",
    "    plt.close('all')\n",
    "\n",
    "\n",
    "for i in range(28,32):\n",
    "    flare = flares_noaia.iloc[i]\n",
    "    flare['mean_start_time'] = pd.to_datetime('20' + flare['DATE'].astype('str') + '_' + \n",
    "                                flare['START_TIME'].astype('str').zfill(4) + '00', format='%Y%m%d_%H%M%S')\n",
    "    flare['mean_end_time'] = pd.to_datetime('20' + flare['DATE'].astype('str') + '_' + \n",
    "                                flare['END_TIME'].astype('str').zfill(4) + '00', format='%Y%m%d_%H%M%S')\n",
    "    if flare['mean_end_time']<flare['mean_start_time']:\n",
    "        flare['mean_end_time']=flare['mean_end_time']+timedelta(days=1)\n",
    "    \n",
    "# load AIA timeseries data \n",
    "    with open(aia_dir+'sharp_'+str(flare['SHARP'])+'_aia_sum_intensity', \"rb\") as fp:   #Pickling\n",
    "        aia_data = pickle.load(fp)\n",
    "    with open(aia_dir+'sharp_'+str(flare['SHARP'])+'_aia_times', \"rb\") as fp:   #Pickling\n",
    "        aia_times = pickle.load(fp)\n",
    "\n",
    "    plot_flare_goes(flare,aia_times,aia_data,window=60)\n",
    "    output_filename = f'Unlabeled_Plots/plot-{i}.png'\n",
    "    plt.savefig(output_filename,facecolor='white') #save figures to directory\n",
    "    plt.close('all')"
   ]
  },
  {
   "cell_type": "code",
   "execution_count": 6,
   "metadata": {},
   "outputs": [
    {
     "data": {
      "text/plain": [
       "flare_ind                         6597\n",
       "DATE                            160807\n",
       "START_TIME                        1437\n",
       "END_TIME                          1448\n",
       "MAX_TIME                          1444\n",
       "LOCATION                     N09W67   \n",
       "CMX                                  M\n",
       "CMX_VALUE                           13\n",
       "INTENSITY                      0.00013\n",
       "FLUX                            0.0046\n",
       "AR                               12572\n",
       "SHARP                             6688\n",
       "mean_start_time    2016-08-07 14:37:00\n",
       "mean_end_time      2016-08-07 14:48:00\n",
       "Name: 4673, dtype: object"
      ]
     },
     "execution_count": 6,
     "metadata": {},
     "output_type": "execute_result"
    }
   ],
   "source": [
    "flare"
   ]
  },
  {
   "cell_type": "code",
   "execution_count": null,
   "metadata": {},
   "outputs": [],
   "source": []
  }
 ],
 "metadata": {
  "kernelspec": {
   "display_name": "Python 3.8.10 64-bit",
   "language": "python",
   "name": "python3"
  },
  "language_info": {
   "codemirror_mode": {
    "name": "ipython",
    "version": 3
   },
   "file_extension": ".py",
   "mimetype": "text/x-python",
   "name": "python",
   "nbconvert_exporter": "python",
   "pygments_lexer": "ipython3",
   "version": "3.8.10"
  },
  "orig_nbformat": 4,
  "vscode": {
   "interpreter": {
    "hash": "e7370f93d1d0cde622a1f8e1c04877d8463912d04d973331ad4851f04de6915a"
   }
  }
 },
 "nbformat": 4,
 "nbformat_minor": 2
}
